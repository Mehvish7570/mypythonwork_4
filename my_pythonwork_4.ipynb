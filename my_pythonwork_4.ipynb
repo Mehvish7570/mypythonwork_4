{
 "cells": [
  {
   "cell_type": "code",
   "execution_count": null,
   "id": "2b58f020-a4da-47d5-a947-4071e9c16e86",
   "metadata": {},
   "outputs": [],
   "source": [
    "#practice of session 4 "
   ]
  },
  {
   "cell_type": "code",
   "execution_count": null,
   "id": "90376739-2099-4500-9f34-05f9aa6d325c",
   "metadata": {},
   "outputs": [],
   "source": [
    "  *introduction to tuple :\n",
    " *classification : it is classified as a immutable datatype\n",
    "\n",
    "  *we can declare tuple bt using () round bracket."
   ]
  },
  {
   "cell_type": "code",
   "execution_count": 4,
   "id": "f2c76912-bf1a-4116-8f41-907c5c5b225e",
   "metadata": {},
   "outputs": [],
   "source": [
    "students =('mehvish','juhi','fatma','hiba','arhaam','qasim','shafiya')"
   ]
  },
  {
   "cell_type": "code",
   "execution_count": 5,
   "id": "3fe3e345-b0b3-4eb8-b160-398370a0ed34",
   "metadata": {},
   "outputs": [
    {
     "name": "stdout",
     "output_type": "stream",
     "text": [
      "('mehvish', 'juhi', 'fatma', 'hiba', 'arhaam', 'qasim', 'shafiya')\n"
     ]
    }
   ],
   "source": [
    "print(students)"
   ]
  },
  {
   "cell_type": "code",
   "execution_count": 6,
   "id": "adf885c9-9b17-4e56-bf95-bd3da3cd8f3e",
   "metadata": {},
   "outputs": [
    {
     "data": {
      "text/plain": [
       "tuple"
      ]
     },
     "execution_count": 6,
     "metadata": {},
     "output_type": "execute_result"
    }
   ],
   "source": [
    "type(students)"
   ]
  },
  {
   "cell_type": "code",
   "execution_count": null,
   "id": "37cf3673-f8b5-4d35-944b-f4f2d36430ce",
   "metadata": {},
   "outputs": [],
   "source": [
    "# requirement we want to update mehvish to shinyise "
   ]
  },
  {
   "cell_type": "code",
   "execution_count": 7,
   "id": "c5d43e41-5106-4f51-a57b-c3e5eea17736",
   "metadata": {},
   "outputs": [
    {
     "ename": "TypeError",
     "evalue": "'tuple' object does not support item assignment",
     "output_type": "error",
     "traceback": [
      "\u001b[1;31m---------------------------------------------------------------------------\u001b[0m",
      "\u001b[1;31mTypeError\u001b[0m                                 Traceback (most recent call last)",
      "Cell \u001b[1;32mIn[7], line 1\u001b[0m\n\u001b[1;32m----> 1\u001b[0m students[\u001b[38;5;241m0\u001b[39m] \u001b[38;5;241m=\u001b[39m \u001b[38;5;124m'\u001b[39m\u001b[38;5;124mshinyise\u001b[39m\u001b[38;5;124m'\u001b[39m\n",
      "\u001b[1;31mTypeError\u001b[0m: 'tuple' object does not support item assignment"
     ]
    }
   ],
   "source": [
    "students[0] = 'shinyise'\n"
   ]
  },
  {
   "cell_type": "code",
   "execution_count": null,
   "id": "eda7ef3a-6dba-41be-8d81-b51185bfc777",
   "metadata": {},
   "outputs": [],
   "source": [
    "# tuples cant be changed , because we cant edit or modify them because its immuatable datatype"
   ]
  },
  {
   "cell_type": "code",
   "execution_count": 12,
   "id": "b6688dcf-0479-4ec6-b60f-f723acca883d",
   "metadata": {},
   "outputs": [],
   "source": [
    "dimension = (100,200)"
   ]
  },
  {
   "cell_type": "code",
   "execution_count": 13,
   "id": "2b9cc62e-d05e-420e-9246-12762a52f11f",
   "metadata": {},
   "outputs": [
    {
     "name": "stdout",
     "output_type": "stream",
     "text": [
      "(100, 200)\n"
     ]
    }
   ],
   "source": [
    "print(dimension)"
   ]
  },
  {
   "cell_type": "code",
   "execution_count": null,
   "id": "cbc5ec64-49a5-44fa-bd61-93307c124491",
   "metadata": {},
   "outputs": [],
   "source": [
    "implementation of for loop on tuple data :"
   ]
  },
  {
   "cell_type": "code",
   "execution_count": null,
   "id": "b9cdd8c0-b61d-4c05-ad8c-16530cb19f47",
   "metadata": {},
   "outputs": [],
   "source": [
    "for tempvar in mainvar :\n",
    "    print(tempvar)"
   ]
  },
  {
   "cell_type": "code",
   "execution_count": 14,
   "id": "3a032df2-03b6-4612-9dae-788b1eede3dd",
   "metadata": {},
   "outputs": [
    {
     "name": "stdout",
     "output_type": "stream",
     "text": [
      "mehvish\n",
      "juhi\n",
      "fatma\n",
      "hiba\n",
      "arhaam\n",
      "qasim\n",
      "shafiya\n"
     ]
    }
   ],
   "source": [
    "for x in students :\n",
    "    print(x)"
   ]
  },
  {
   "cell_type": "code",
   "execution_count": null,
   "id": "af7a7f7f-751d-4123-984a-84e0c427cac0",
   "metadata": {},
   "outputs": [],
   "source": []
  },
  {
   "cell_type": "code",
   "execution_count": null,
   "id": "c64139eb-bcb5-4eaf-9390-d79f5edc18d1",
   "metadata": {},
   "outputs": [],
   "source": [
    "  *introduction to dictionaries :"
   ]
  },
  {
   "cell_type": "code",
   "execution_count": null,
   "id": "6e707a02-3df3-47b7-813a-4d659b22d83b",
   "metadata": {},
   "outputs": [],
   "source": [
    "definatiton : A dictionary is a combination of key value pairs .\n",
    "classification : mutable data type \n",
    "we can use {} to define a dictionaries "
   ]
  },
  {
   "cell_type": "code",
   "execution_count": null,
   "id": "b7d51927-44c8-40b1-aa70-e7d5573349e3",
   "metadata": {},
   "outputs": [],
   "source": [
    "# alien game : we have to define properties of alien "
   ]
  },
  {
   "cell_type": "code",
   "execution_count": 27,
   "id": "c8e91f8c-1afa-4000-8b4d-67b3d9f2b1c5",
   "metadata": {},
   "outputs": [],
   "source": [
    "Alien = {'color':'green','point':3}"
   ]
  },
  {
   "cell_type": "code",
   "execution_count": 21,
   "id": "af6ab88d-9fbf-469b-b10f-8a4286bb7e78",
   "metadata": {},
   "outputs": [
    {
     "name": "stdout",
     "output_type": "stream",
     "text": [
      "{'color': 'green', 'point': 3}\n"
     ]
    }
   ],
   "source": [
    "print(Alien)"
   ]
  },
  {
   "cell_type": "code",
   "execution_count": 22,
   "id": "89698cba-6f45-4d8f-bfb3-9e1bb253b7e6",
   "metadata": {},
   "outputs": [],
   "source": [
    "# how to add new value pairs to the dictionary "
   ]
  },
  {
   "cell_type": "code",
   "execution_count": 23,
   "id": "565b39ba-10af-41a5-868e-0b8806da11f4",
   "metadata": {},
   "outputs": [],
   "source": [
    "# Current_level : 1 "
   ]
  },
  {
   "cell_type": "code",
   "execution_count": 28,
   "id": "3ba5b215-e97d-4900-8a18-fffcb18ceff4",
   "metadata": {},
   "outputs": [],
   "source": [
    "Alien['Current level']= 'level 1'"
   ]
  },
  {
   "cell_type": "code",
   "execution_count": 29,
   "id": "f5c90ee4-688d-46be-834f-7edac62d1b98",
   "metadata": {},
   "outputs": [
    {
     "name": "stdout",
     "output_type": "stream",
     "text": [
      "{'color': 'green', 'point': 3, 'Current level': 'level 1'}\n"
     ]
    }
   ],
   "source": [
    "print(Alien)"
   ]
  },
  {
   "cell_type": "code",
   "execution_count": null,
   "id": "70a170a1-e062-4dfa-a2e6-f850c074dad1",
   "metadata": {},
   "outputs": [],
   "source": [
    "# indexing :"
   ]
  },
  {
   "cell_type": "code",
   "execution_count": null,
   "id": "e5fa8def-5dd6-4268-b196-ae65f4137b96",
   "metadata": {},
   "outputs": [],
   "source": [
    "# requirement : i want to knoe color of Alien"
   ]
  },
  {
   "cell_type": "code",
   "execution_count": 30,
   "id": "7550dd78-2595-4db0-94b6-10031aac3805",
   "metadata": {},
   "outputs": [
    {
     "name": "stdout",
     "output_type": "stream",
     "text": [
      "green\n"
     ]
    }
   ],
   "source": [
    "print(Alien['color'])"
   ]
  },
  {
   "cell_type": "code",
   "execution_count": 33,
   "id": "7b8b046a-4f17-461b-8388-cac4a21cfd63",
   "metadata": {},
   "outputs": [
    {
     "name": "stdout",
     "output_type": "stream",
     "text": [
      "3\n"
     ]
    }
   ],
   "source": [
    "print(Alien['point'])"
   ]
  },
  {
   "cell_type": "code",
   "execution_count": null,
   "id": "ad7fd6e3-0645-46ec-9597-12386c7c5004",
   "metadata": {},
   "outputs": [],
   "source": [
    "*note: give tge key and get the value ..."
   ]
  },
  {
   "cell_type": "code",
   "execution_count": 34,
   "id": "daec16cc-571f-4319-aaf3-97d276b2130e",
   "metadata": {},
   "outputs": [
    {
     "ename": "KeyError",
     "evalue": "'level 1'",
     "output_type": "error",
     "traceback": [
      "\u001b[1;31m---------------------------------------------------------------------------\u001b[0m",
      "\u001b[1;31mKeyError\u001b[0m                                  Traceback (most recent call last)",
      "Cell \u001b[1;32mIn[34], line 1\u001b[0m\n\u001b[1;32m----> 1\u001b[0m \u001b[38;5;28mprint\u001b[39m (Alien[\u001b[38;5;124m'\u001b[39m\u001b[38;5;124mlevel 1\u001b[39m\u001b[38;5;124m'\u001b[39m])\n",
      "\u001b[1;31mKeyError\u001b[0m: 'level 1'"
     ]
    }
   ],
   "source": [
    "print (Alien['level 1'])"
   ]
  },
  {
   "cell_type": "markdown",
   "id": "6c6e5702-1aac-48d7-99d7-61c091befa68",
   "metadata": {},
   "source": [
    "# only key can be uploded to get  the value not value to get the keys "
   ]
  },
  {
   "cell_type": "code",
   "execution_count": null,
   "id": "b4e53ee4-5e20-4878-9a7d-320bf36ebe18",
   "metadata": {},
   "outputs": [],
   "source": [
    " #for loop implementation on the top of dictionary :"
   ]
  },
  {
   "cell_type": "code",
   "execution_count": null,
   "id": "8ab058a5-1050-4281-ad6e-35dc24c4afa3",
   "metadata": {},
   "outputs": [],
   "source": []
  },
  {
   "cell_type": "code",
   "execution_count": null,
   "id": "47490ab2-cad3-4483-bc9a-0eb015cacad0",
   "metadata": {},
   "outputs": [],
   "source": []
  },
  {
   "cell_type": "code",
   "execution_count": null,
   "id": "06ce5ba4-6cc1-4f3b-ad4f-b7e899acd8a3",
   "metadata": {},
   "outputs": [],
   "source": []
  },
  {
   "cell_type": "code",
   "execution_count": null,
   "id": "f991244c-9172-4681-b0a0-db4b60c9aed4",
   "metadata": {},
   "outputs": [],
   "source": []
  }
 ],
 "metadata": {
  "kernelspec": {
   "display_name": "Python 3 (ipykernel)",
   "language": "python",
   "name": "python3"
  },
  "language_info": {
   "codemirror_mode": {
    "name": "ipython",
    "version": 3
   },
   "file_extension": ".py",
   "mimetype": "text/x-python",
   "name": "python",
   "nbconvert_exporter": "python",
   "pygments_lexer": "ipython3",
   "version": "3.13.5"
  }
 },
 "nbformat": 4,
 "nbformat_minor": 5
}
